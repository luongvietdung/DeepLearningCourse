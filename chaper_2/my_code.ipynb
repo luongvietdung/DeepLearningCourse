{
 "cells": [
  {
   "cell_type": "code",
   "execution_count": 10,
   "metadata": {},
   "outputs": [
    {
     "name": "stdout",
     "output_type": "stream",
     "text": [
      "A=  [[ 0.78761029  0.16937575]\n",
      " [ 1.48729217  0.00201405]\n",
      " [-0.1699851   1.22847939]]\n",
      "B =  [[ 0.48951098 -0.13445437 -0.54059583]\n",
      " [ 0.58346707 -0.45282748 -0.23555098]]\n",
      "C =  [[-0.52697051  0.35408434 -0.679353  ]\n",
      " [-0.58710444 -0.86730123 -1.15829825]\n",
      " [-0.25488913  0.0812398  -0.35723546]]\n",
      "D =  [[  5551674.5       792147.8125   7429041.5   ]\n",
      " [ -8608083.      -1228259.125  -11519012.    ]\n",
      " [ 38209544.       5451980.5     51130564.    ]]\n"
     ]
    }
   ],
   "source": [
    "import tensorflow as tf\n",
    "a=tf.random_normal((3,2))\n",
    "b=tf.random_normal((2,3))\n",
    "c = tf.matmul(a, b)\n",
    "d = tf.matrix_inverse(c)  \n",
    "with tf.Session() as ss:\n",
    "        print('A= ', ss.run(a))\n",
    "        print('B = ', ss.run(b))\n",
    "        print('C = ', ss.run(c))\n",
    "        print('D = ', ss.run(d))"
   ]
  },
  {
   "cell_type": "code",
   "execution_count": 34,
   "metadata": {},
   "outputs": [
    {
     "name": "stdout",
     "output_type": "stream",
     "text": [
      "[[ 0.92414182]]\n",
      "[[ 0.98201376]]\n",
      "[[ 0.92414182]]\n"
     ]
    }
   ],
   "source": [
    "x = tf.placeholder(tf.float32,shape=[1, 2])\n",
    "v = tf.Variable([[0.5, 1.0]])\n",
    "y = 1 / (1 + tf.exp(tf.matmul(tf.negative(x), tf.transpose(v))))\n",
    "values = ([[1, 2]], [[2, 3]], [[3, 1]])\n",
    "with tf.Session() as ss:\n",
    "    ss.run(tf.global_variables_initializer())\n",
    "    for va in values:\n",
    "         print(ss.run(y, feed_dict={x:va}))\n"
   ]
  },
  {
   "cell_type": "code",
   "execution_count": null,
   "metadata": {},
   "outputs": [],
   "source": []
  }
 ],
 "metadata": {
  "kernelspec": {
   "display_name": "Python 3",
   "language": "python",
   "name": "python3"
  },
  "language_info": {
   "codemirror_mode": {
    "name": "ipython",
    "version": 3
   },
   "file_extension": ".py",
   "mimetype": "text/x-python",
   "name": "python",
   "nbconvert_exporter": "python",
   "pygments_lexer": "ipython3",
   "version": "3.5.2"
  }
 },
 "nbformat": 4,
 "nbformat_minor": 2
}
