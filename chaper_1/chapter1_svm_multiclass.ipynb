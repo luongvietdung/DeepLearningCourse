{
 "cells": [
  {
   "cell_type": "code",
   "execution_count": 1,
   "metadata": {
    "collapsed": true
   },
   "outputs": [],
   "source": [
    "from sklearn.svm import SVC\n",
    "import numpy as np\n",
    "from sklearn import datasets\n",
    "\n",
    "iris = datasets.load_iris()\n",
    "x_train = iris[\"data\"]  # petal length, petal width\n",
    "y_train = iris[\"target\"]"
   ]
  },
  {
   "cell_type": "code",
   "execution_count": 2,
   "metadata": {},
   "outputs": [
    {
     "data": {
      "text/plain": [
       "SVC(C=0.1, cache_size=200, class_weight=None, coef0=0.0,\n",
       "  decision_function_shape=None, degree=3, gamma='auto', kernel='linear',\n",
       "  max_iter=-1, probability=False, random_state=None, shrinking=True,\n",
       "  tol=0.001, verbose=False)"
      ]
     },
     "execution_count": 2,
     "metadata": {},
     "output_type": "execute_result"
    }
   ],
   "source": [
    "# SVM Classifier model\n",
    "svm_clf = SVC(kernel=\"linear\", C=0.1)\n",
    "svm_clf.fit(x_train, y_train)"
   ]
  },
  {
   "cell_type": "code",
   "execution_count": 3,
   "metadata": {},
   "outputs": [
    {
     "name": "stdout",
     "output_type": "stream",
     "text": [
      "[-0.13001521  0.34590107 -0.74649785 -0.34757868]\n",
      "1.86433801451\n",
      "[-0.05500037  0.15500012 -0.51426527 -0.23789395]\n",
      "1.76185604081\n",
      "[ 0.092721    0.19757367 -1.24100522 -0.98857889]\n",
      "6.6107273455\n"
     ]
    }
   ],
   "source": [
    "n_plane=svm_clf.coef_.shape[0]\n",
    "for i in range(n_plane):\n",
    "    w = svm_clf.coef_[i]\n",
    "    b = svm_clf.intercept_[i]\n",
    "    print(w)\n",
    "    print(b)"
   ]
  },
  {
   "cell_type": "code",
   "execution_count": 4,
   "metadata": {},
   "outputs": [
    {
     "data": {
      "text/plain": [
       "LinearSVC(C=0.1, class_weight=None, dual=True, fit_intercept=True,\n",
       "     intercept_scaling=1, loss='squared_hinge', max_iter=1000,\n",
       "     multi_class='ovr', penalty='l2', random_state=None, tol=0.0001,\n",
       "     verbose=0)"
      ]
     },
     "execution_count": 4,
     "metadata": {},
     "output_type": "execute_result"
    }
   ],
   "source": [
    "from sklearn.svm import LinearSVC\n",
    "linear_svm=LinearSVC(C=0.1)\n",
    "linear_svm.fit(x_train, y_train)\n"
   ]
  },
  {
   "cell_type": "code",
   "execution_count": 5,
   "metadata": {},
   "outputs": [
    {
     "name": "stdout",
     "output_type": "stream",
     "text": [
      "[-0.13001521  0.34590107 -0.74649785 -0.34757868]\n",
      "1.86433801451\n",
      "[-0.05500037  0.15500012 -0.51426527 -0.23789395]\n",
      "1.76185604081\n",
      "[ 0.092721    0.19757367 -1.24100522 -0.98857889]\n",
      "6.6107273455\n"
     ]
    }
   ],
   "source": [
    "n_plane=svm_clf.coef_.shape[0]\n",
    "for i in range(n_plane):\n",
    "    w = svm_clf.coef_[i]\n",
    "    b = svm_clf.intercept_[i]\n",
    "    print(w)\n",
    "    print(b)"
   ]
  }
 ],
 "metadata": {
  "kernelspec": {
   "display_name": "Python 3",
   "language": "python",
   "name": "python3"
  },
  "language_info": {
   "codemirror_mode": {
    "name": "ipython",
    "version": 3
   },
   "file_extension": ".py",
   "mimetype": "text/x-python",
   "name": "python",
   "nbconvert_exporter": "python",
   "pygments_lexer": "ipython3",
   "version": "3.5.2"
  }
 },
 "nbformat": 4,
 "nbformat_minor": 2
}
